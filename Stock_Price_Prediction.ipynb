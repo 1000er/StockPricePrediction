{
 "cells": [
  {
   "cell_type": "code",
   "execution_count": 1,
   "metadata": {},
   "outputs": [],
   "source": [
    "import pandas as pd\n",
    "import datetime\n",
    "from pandas import Series, DataFrame"
   ]
  },
  {
   "cell_type": "markdown",
   "metadata": {},
   "source": [
    "Read the CSV file containing finance data."
   ]
  },
  {
   "cell_type": "code",
   "execution_count": 2,
   "metadata": {},
   "outputs": [],
   "source": [
    "df = pd.read_csv('NVDA.csv')"
   ]
  },
  {
   "cell_type": "code",
   "execution_count": 3,
   "metadata": {},
   "outputs": [
    {
     "data": {
      "text/html": [
       "<div>\n",
       "<style scoped>\n",
       "    .dataframe tbody tr th:only-of-type {\n",
       "        vertical-align: middle;\n",
       "    }\n",
       "\n",
       "    .dataframe tbody tr th {\n",
       "        vertical-align: top;\n",
       "    }\n",
       "\n",
       "    .dataframe thead th {\n",
       "        text-align: right;\n",
       "    }\n",
       "</style>\n",
       "<table border=\"1\" class=\"dataframe\">\n",
       "  <thead>\n",
       "    <tr style=\"text-align: right;\">\n",
       "      <th></th>\n",
       "      <th>Date</th>\n",
       "      <th>Open</th>\n",
       "      <th>High</th>\n",
       "      <th>Low</th>\n",
       "      <th>Close</th>\n",
       "      <th>Adj Close</th>\n",
       "      <th>Volume</th>\n",
       "    </tr>\n",
       "  </thead>\n",
       "  <tbody>\n",
       "    <tr>\n",
       "      <th>2513</th>\n",
       "      <td>2019-09-09</td>\n",
       "      <td>179.899994</td>\n",
       "      <td>183.979996</td>\n",
       "      <td>179.839996</td>\n",
       "      <td>180.500000</td>\n",
       "      <td>180.500000</td>\n",
       "      <td>10438100</td>\n",
       "    </tr>\n",
       "    <tr>\n",
       "      <th>2514</th>\n",
       "      <td>2019-09-10</td>\n",
       "      <td>179.179993</td>\n",
       "      <td>184.250000</td>\n",
       "      <td>178.789993</td>\n",
       "      <td>183.179993</td>\n",
       "      <td>183.179993</td>\n",
       "      <td>8820300</td>\n",
       "    </tr>\n",
       "    <tr>\n",
       "      <th>2515</th>\n",
       "      <td>2019-09-11</td>\n",
       "      <td>183.770004</td>\n",
       "      <td>186.270004</td>\n",
       "      <td>182.600006</td>\n",
       "      <td>184.330002</td>\n",
       "      <td>184.330002</td>\n",
       "      <td>9037800</td>\n",
       "    </tr>\n",
       "    <tr>\n",
       "      <th>2516</th>\n",
       "      <td>2019-09-12</td>\n",
       "      <td>186.199997</td>\n",
       "      <td>188.399994</td>\n",
       "      <td>183.949997</td>\n",
       "      <td>184.270004</td>\n",
       "      <td>184.270004</td>\n",
       "      <td>8196000</td>\n",
       "    </tr>\n",
       "    <tr>\n",
       "      <th>2517</th>\n",
       "      <td>2019-09-13</td>\n",
       "      <td>181.589996</td>\n",
       "      <td>183.080002</td>\n",
       "      <td>180.179993</td>\n",
       "      <td>181.940002</td>\n",
       "      <td>181.940002</td>\n",
       "      <td>8068900</td>\n",
       "    </tr>\n",
       "  </tbody>\n",
       "</table>\n",
       "</div>"
      ],
      "text/plain": [
       "            Date        Open        High         Low       Close   Adj Close  \\\n",
       "2513  2019-09-09  179.899994  183.979996  179.839996  180.500000  180.500000   \n",
       "2514  2019-09-10  179.179993  184.250000  178.789993  183.179993  183.179993   \n",
       "2515  2019-09-11  183.770004  186.270004  182.600006  184.330002  184.330002   \n",
       "2516  2019-09-12  186.199997  188.399994  183.949997  184.270004  184.270004   \n",
       "2517  2019-09-13  181.589996  183.080002  180.179993  181.940002  181.940002   \n",
       "\n",
       "        Volume  \n",
       "2513  10438100  \n",
       "2514   8820300  \n",
       "2515   9037800  \n",
       "2516   8196000  \n",
       "2517   8068900  "
      ]
     },
     "execution_count": 3,
     "metadata": {},
     "output_type": "execute_result"
    }
   ],
   "source": [
    "df.tail()"
   ]
  },
  {
   "cell_type": "markdown",
   "metadata": {},
   "source": [
    "Let's convert data frame index to a datetime index, so that index column can be eliminated."
   ]
  },
  {
   "cell_type": "code",
   "execution_count": 4,
   "metadata": {},
   "outputs": [
    {
     "data": {
      "text/html": [
       "<div>\n",
       "<style scoped>\n",
       "    .dataframe tbody tr th:only-of-type {\n",
       "        vertical-align: middle;\n",
       "    }\n",
       "\n",
       "    .dataframe tbody tr th {\n",
       "        vertical-align: top;\n",
       "    }\n",
       "\n",
       "    .dataframe thead th {\n",
       "        text-align: right;\n",
       "    }\n",
       "</style>\n",
       "<table border=\"1\" class=\"dataframe\">\n",
       "  <thead>\n",
       "    <tr style=\"text-align: right;\">\n",
       "      <th></th>\n",
       "      <th>Open</th>\n",
       "      <th>High</th>\n",
       "      <th>Low</th>\n",
       "      <th>Close</th>\n",
       "      <th>Adj Close</th>\n",
       "      <th>Volume</th>\n",
       "    </tr>\n",
       "    <tr>\n",
       "      <th>Date</th>\n",
       "      <th></th>\n",
       "      <th></th>\n",
       "      <th></th>\n",
       "      <th></th>\n",
       "      <th></th>\n",
       "      <th></th>\n",
       "    </tr>\n",
       "  </thead>\n",
       "  <tbody>\n",
       "    <tr>\n",
       "      <th>2009-09-14</th>\n",
       "      <td>16.080000</td>\n",
       "      <td>16.209999</td>\n",
       "      <td>15.910000</td>\n",
       "      <td>16.049999</td>\n",
       "      <td>14.791827</td>\n",
       "      <td>12262900</td>\n",
       "    </tr>\n",
       "    <tr>\n",
       "      <th>2009-09-15</th>\n",
       "      <td>16.200001</td>\n",
       "      <td>16.580000</td>\n",
       "      <td>16.049999</td>\n",
       "      <td>16.379999</td>\n",
       "      <td>15.095963</td>\n",
       "      <td>13653400</td>\n",
       "    </tr>\n",
       "    <tr>\n",
       "      <th>2009-09-16</th>\n",
       "      <td>16.340000</td>\n",
       "      <td>16.370001</td>\n",
       "      <td>15.700000</td>\n",
       "      <td>15.940000</td>\n",
       "      <td>14.690453</td>\n",
       "      <td>17676600</td>\n",
       "    </tr>\n",
       "    <tr>\n",
       "      <th>2009-09-17</th>\n",
       "      <td>15.900000</td>\n",
       "      <td>15.900000</td>\n",
       "      <td>14.970000</td>\n",
       "      <td>15.240000</td>\n",
       "      <td>14.045328</td>\n",
       "      <td>23077400</td>\n",
       "    </tr>\n",
       "    <tr>\n",
       "      <th>2009-09-18</th>\n",
       "      <td>15.390000</td>\n",
       "      <td>15.500000</td>\n",
       "      <td>15.100000</td>\n",
       "      <td>15.220000</td>\n",
       "      <td>14.026894</td>\n",
       "      <td>15118500</td>\n",
       "    </tr>\n",
       "  </tbody>\n",
       "</table>\n",
       "</div>"
      ],
      "text/plain": [
       "                 Open       High        Low      Close  Adj Close    Volume\n",
       "Date                                                                       \n",
       "2009-09-14  16.080000  16.209999  15.910000  16.049999  14.791827  12262900\n",
       "2009-09-15  16.200001  16.580000  16.049999  16.379999  15.095963  13653400\n",
       "2009-09-16  16.340000  16.370001  15.700000  15.940000  14.690453  17676600\n",
       "2009-09-17  15.900000  15.900000  14.970000  15.240000  14.045328  23077400\n",
       "2009-09-18  15.390000  15.500000  15.100000  15.220000  14.026894  15118500"
      ]
     },
     "execution_count": 4,
     "metadata": {},
     "output_type": "execute_result"
    }
   ],
   "source": [
    "# Convert Date column in string format to Date format.\n",
    "df['Date']= pd.to_datetime(df['Date'])\n",
    "\n",
    "df = df.set_index('Date')\n",
    "df.head()"
   ]
  },
  {
   "cell_type": "markdown",
   "metadata": {},
   "source": [
    "Get the dimension of dataframe"
   ]
  },
  {
   "cell_type": "code",
   "execution_count": 5,
   "metadata": {},
   "outputs": [
    {
     "data": {
      "text/plain": [
       "(2518, 6)"
      ]
     },
     "execution_count": 5,
     "metadata": {},
     "output_type": "execute_result"
    }
   ],
   "source": [
    "df.shape"
   ]
  },
  {
   "cell_type": "markdown",
   "metadata": {},
   "source": [
    "Checking the rolling mean of the stock"
   ]
  },
  {
   "cell_type": "code",
   "execution_count": 6,
   "metadata": {},
   "outputs": [
    {
     "data": {
      "text/plain": [
       "Date\n",
       "2019-08-30    163.297447\n",
       "2019-09-03    163.022235\n",
       "2019-09-04    162.798511\n",
       "2019-09-05    162.699854\n",
       "2019-09-06    162.643284\n",
       "2019-09-09    162.570189\n",
       "2019-09-10    162.533074\n",
       "2019-09-11    162.517339\n",
       "2019-09-12    162.479349\n",
       "2019-09-13    162.396106\n",
       "Name: Adj Close, dtype: float64"
      ]
     },
     "execution_count": 6,
     "metadata": {},
     "output_type": "execute_result"
    }
   ],
   "source": [
    "close_px = df['Adj Close']\n",
    "mavg = close_px.rolling(window=100).mean()\n",
    "mavg.tail(10)"
   ]
  },
  {
   "cell_type": "code",
   "execution_count": 7,
   "metadata": {},
   "outputs": [],
   "source": [
    "import matplotlib.pyplot as plt\n",
    "from matplotlib import style\n",
    "import matplotlib as mpl"
   ]
  },
  {
   "cell_type": "code",
   "execution_count": 8,
   "metadata": {},
   "outputs": [
    {
     "data": {
      "text/plain": [
       "<matplotlib.legend.Legend at 0x7fd443329748>"
      ]
     },
     "execution_count": 8,
     "metadata": {},
     "output_type": "execute_result"
    },
    {
     "data": {
      "image/png": "[encoded data removed]",
      "text/plain": [
       "<Figure size 720x504 with 1 Axes>"
      ]
     },
     "metadata": {},
     "output_type": "display_data"
    }
   ],
   "source": [
    "mpl.rc('figure', figsize=(10, 7))\n",
    "style.use('ggplot')\n",
    "close_px.plot(label='NVDA')\n",
    "mavg.plot(label='mavg')\n",
    "plt.legend()"
   ]
  },
  {
   "cell_type": "markdown",
   "metadata": {},
   "source": [
    "Above plot shows that it mean average follows the trend and neglects the fluctuations. "
   ]
  },
  {
   "cell_type": "markdown",
   "metadata": {},
   "source": [
    "\n",
    "# Predicting the stocks price"
   ]
  },
  {
   "cell_type": "markdown",
   "metadata": {},
   "source": [
    "Lets Prepare the data"
   ]
  },
  {
   "cell_type": "code",
   "execution_count": 9,
   "metadata": {},
   "outputs": [
    {
     "data": {
      "text/html": [
       "<div>\n",
       "<style scoped>\n",
       "    .dataframe tbody tr th:only-of-type {\n",
       "        vertical-align: middle;\n",
       "    }\n",
       "\n",
       "    .dataframe tbody tr th {\n",
       "        vertical-align: top;\n",
       "    }\n",
       "\n",
       "    .dataframe thead th {\n",
       "        text-align: right;\n",
       "    }\n",
       "</style>\n",
       "<table border=\"1\" class=\"dataframe\">\n",
       "  <thead>\n",
       "    <tr style=\"text-align: right;\">\n",
       "      <th></th>\n",
       "      <th>Adj Close</th>\n",
       "      <th>Volume</th>\n",
       "      <th>HL_PCT</th>\n",
       "      <th>PCT_change</th>\n",
       "    </tr>\n",
       "    <tr>\n",
       "      <th>Date</th>\n",
       "      <th></th>\n",
       "      <th></th>\n",
       "      <th></th>\n",
       "      <th></th>\n",
       "    </tr>\n",
       "  </thead>\n",
       "  <tbody>\n",
       "    <tr>\n",
       "      <th>2009-09-14</th>\n",
       "      <td>14.791827</td>\n",
       "      <td>12262900</td>\n",
       "      <td>1.869153</td>\n",
       "      <td>-0.186573</td>\n",
       "    </tr>\n",
       "    <tr>\n",
       "      <th>2009-09-15</th>\n",
       "      <td>15.095963</td>\n",
       "      <td>13653400</td>\n",
       "      <td>3.235660</td>\n",
       "      <td>1.111099</td>\n",
       "    </tr>\n",
       "    <tr>\n",
       "      <th>2009-09-16</th>\n",
       "      <td>14.690453</td>\n",
       "      <td>17676600</td>\n",
       "      <td>4.203269</td>\n",
       "      <td>-2.447980</td>\n",
       "    </tr>\n",
       "    <tr>\n",
       "      <th>2009-09-17</th>\n",
       "      <td>14.045328</td>\n",
       "      <td>23077400</td>\n",
       "      <td>6.102362</td>\n",
       "      <td>-4.150943</td>\n",
       "    </tr>\n",
       "    <tr>\n",
       "      <th>2009-09-18</th>\n",
       "      <td>14.026894</td>\n",
       "      <td>15118500</td>\n",
       "      <td>2.628121</td>\n",
       "      <td>-1.104613</td>\n",
       "    </tr>\n",
       "  </tbody>\n",
       "</table>\n",
       "</div>"
      ],
      "text/plain": [
       "            Adj Close    Volume    HL_PCT  PCT_change\n",
       "Date                                                 \n",
       "2009-09-14  14.791827  12262900  1.869153   -0.186573\n",
       "2009-09-15  15.095963  13653400  3.235660    1.111099\n",
       "2009-09-16  14.690453  17676600  4.203269   -2.447980\n",
       "2009-09-17  14.045328  23077400  6.102362   -4.150943\n",
       "2009-09-18  14.026894  15118500  2.628121   -1.104613"
      ]
     },
     "execution_count": 9,
     "metadata": {},
     "output_type": "execute_result"
    }
   ],
   "source": [
    "dfreg = df.loc[:,['Adj Close','Volume']]\n",
    "dfreg['HL_PCT'] = (df['High'] - df['Low']) / df['Close'] * 100.0\n",
    "dfreg['PCT_change'] = (df['Close'] - df['Open']) / df['Open'] * 100.0\n",
    "dfreg.head()"
   ]
  },
  {
   "cell_type": "code",
   "execution_count": 10,
   "metadata": {},
   "outputs": [
    {
     "name": "stdout",
     "output_type": "stream",
     "text": [
      "(2518, 4)\n"
     ]
    },
    {
     "data": {
      "text/html": [
       "<div>\n",
       "<style scoped>\n",
       "    .dataframe tbody tr th:only-of-type {\n",
       "        vertical-align: middle;\n",
       "    }\n",
       "\n",
       "    .dataframe tbody tr th {\n",
       "        vertical-align: top;\n",
       "    }\n",
       "\n",
       "    .dataframe thead th {\n",
       "        text-align: right;\n",
       "    }\n",
       "</style>\n",
       "<table border=\"1\" class=\"dataframe\">\n",
       "  <thead>\n",
       "    <tr style=\"text-align: right;\">\n",
       "      <th></th>\n",
       "      <th>Adj Close</th>\n",
       "      <th>Volume</th>\n",
       "      <th>HL_PCT</th>\n",
       "      <th>PCT_change</th>\n",
       "      <th>label</th>\n",
       "    </tr>\n",
       "    <tr>\n",
       "      <th>Date</th>\n",
       "      <th></th>\n",
       "      <th></th>\n",
       "      <th></th>\n",
       "      <th></th>\n",
       "      <th></th>\n",
       "    </tr>\n",
       "  </thead>\n",
       "  <tbody>\n",
       "    <tr>\n",
       "      <th>2009-09-14</th>\n",
       "      <td>14.791827</td>\n",
       "      <td>12262900</td>\n",
       "      <td>1.869153</td>\n",
       "      <td>-0.186573</td>\n",
       "      <td>12.635262</td>\n",
       "    </tr>\n",
       "    <tr>\n",
       "      <th>2009-09-15</th>\n",
       "      <td>15.095963</td>\n",
       "      <td>13653400</td>\n",
       "      <td>3.235660</td>\n",
       "      <td>1.111099</td>\n",
       "      <td>12.331132</td>\n",
       "    </tr>\n",
       "    <tr>\n",
       "      <th>2009-09-16</th>\n",
       "      <td>14.690453</td>\n",
       "      <td>17676600</td>\n",
       "      <td>4.203269</td>\n",
       "      <td>-2.447980</td>\n",
       "      <td>12.414075</td>\n",
       "    </tr>\n",
       "    <tr>\n",
       "      <th>2009-09-17</th>\n",
       "      <td>14.045328</td>\n",
       "      <td>23077400</td>\n",
       "      <td>6.102362</td>\n",
       "      <td>-4.150943</td>\n",
       "      <td>12.119162</td>\n",
       "    </tr>\n",
       "    <tr>\n",
       "      <th>2009-09-18</th>\n",
       "      <td>14.026894</td>\n",
       "      <td>15118500</td>\n",
       "      <td>2.628121</td>\n",
       "      <td>-1.104613</td>\n",
       "      <td>11.962486</td>\n",
       "    </tr>\n",
       "  </tbody>\n",
       "</table>\n",
       "</div>"
      ],
      "text/plain": [
       "            Adj Close    Volume    HL_PCT  PCT_change      label\n",
       "Date                                                            \n",
       "2009-09-14  14.791827  12262900  1.869153   -0.186573  12.635262\n",
       "2009-09-15  15.095963  13653400  3.235660    1.111099  12.331132\n",
       "2009-09-16  14.690453  17676600  4.203269   -2.447980  12.414075\n",
       "2009-09-17  14.045328  23077400  6.102362   -4.150943  12.119162\n",
       "2009-09-18  14.026894  15118500  2.628121   -1.104613  11.962486"
      ]
     },
     "execution_count": 10,
     "metadata": {},
     "output_type": "execute_result"
    }
   ],
   "source": [
    "import math\n",
    "import numpy as np\n",
    "from sklearn import preprocessing, svm\n",
    "from sklearn.model_selection import train_test_split\n",
    "\n",
    "# Drop missing value\n",
    "dfreg.fillna(value=-99999, inplace=True)\n",
    "\n",
    "print(dfreg.shape)\n",
    "# We want to separate 1 percent of the data to forecast\n",
    "forecast_out = int(math.ceil(0.01 * len(dfreg)))\n",
    "\n",
    "# Separating the label here, we want to predict the AdjClose\n",
    "forecast_col = 'Adj Close'\n",
    "dfreg['label'] = dfreg[forecast_col].shift(-forecast_out)\n",
    "dfreg.head()"
   ]
  },
  {
   "cell_type": "code",
   "execution_count": 11,
   "metadata": {},
   "outputs": [
    {
     "data": {
      "text/plain": [
       "(2518, 4)"
      ]
     },
     "execution_count": 11,
     "metadata": {},
     "output_type": "execute_result"
    }
   ],
   "source": [
    "X = np.array(dfreg.drop(['label'], 1))\n",
    "X.shape"
   ]
  },
  {
   "cell_type": "code",
   "execution_count": 12,
   "metadata": {},
   "outputs": [
    {
     "name": "stdout",
     "output_type": "stream",
     "text": [
      "Dimension of X (2492, 4)\n",
      "Dimension of y (2492,)\n"
     ]
    }
   ],
   "source": [
    "# Scale the X so that everyone can have the same distribution for linear regression\n",
    "X = preprocessing.scale(X)\n",
    "\n",
    "# Finally We want to find Data Series of late X and early X (train) for model generation and evaluation\n",
    "X_lately = X[-forecast_out:]\n",
    "X = X[:-forecast_out]\n",
    "\n",
    "# Separate label and identify it as y\n",
    "y = np.array(dfreg['label'])\n",
    "y = y[:-forecast_out]\n",
    "\n",
    "print('Dimension of X',X.shape)\n",
    "print('Dimension of y',y.shape)"
   ]
  },
  {
   "cell_type": "code",
   "execution_count": 13,
   "metadata": {},
   "outputs": [],
   "source": [
    "# Separation of training and testing of model by cross validation train test split\n",
    "X_train, X_test, y_train, y_test = train_test_split(X, y, test_size=0.2)"
   ]
  },
  {
   "cell_type": "markdown",
   "metadata": {},
   "source": [
    "Predicting stocks using liners regression"
   ]
  },
  {
   "cell_type": "code",
   "execution_count": 14,
   "metadata": {},
   "outputs": [
    {
     "name": "stdout",
     "output_type": "stream",
     "text": [
      "The linear regression confidence is  0.9678309591472251\n"
     ]
    }
   ],
   "source": [
    "from sklearn.linear_model import LinearRegression\n",
    "\n",
    "# Linear regression\n",
    "lin_reg = LinearRegression(n_jobs=-1)\n",
    "lin_reg.fit(X_train, y_train)\n",
    "\n",
    "\n",
    "confidencelin_reg = lin_reg.score(X_test, y_test)\n",
    "\n",
    "print(\"The linear regression confidence is \",confidencelin_reg)"
   ]
  },
  {
   "cell_type": "markdown",
   "metadata": {},
   "source": [
    "Predicting stocks using Quadratic Regression 2"
   ]
  },
  {
   "cell_type": "code",
   "execution_count": 15,
   "metadata": {},
   "outputs": [
    {
     "name": "stdout",
     "output_type": "stream",
     "text": [
      "The quadratic regression 2 confidence is  0.9741901340431659\n"
     ]
    }
   ],
   "source": [
    "from sklearn.pipeline import make_pipeline\n",
    "from sklearn.linear_model import Ridge\n",
    "from sklearn.preprocessing import PolynomialFeatures\n",
    "\n",
    "\n",
    "# Quadratic Regression 2\n",
    "reg_poly2 = make_pipeline(PolynomialFeatures(2), Ridge())\n",
    "reg_poly2.fit(X_train, y_train)\n",
    "\n",
    "confidencepoly2 = reg_poly2.score(X_test,y_test)\n",
    "\n",
    "print(\"The quadratic regression 2 confidence is \",confidencepoly2)"
   ]
  },
  {
   "cell_type": "markdown",
   "metadata": {},
   "source": [
    "Predicting stocks using Ridge Regression"
   ]
  },
  {
   "cell_type": "code",
   "execution_count": 16,
   "metadata": {},
   "outputs": [
    {
     "name": "stdout",
     "output_type": "stream",
     "text": [
      "The Ridge regression confidence is  0.9678391540518066\n"
     ]
    }
   ],
   "source": [
    "from sklearn.linear_model import Ridge\n",
    "\n",
    "\n",
    "# Ridge Regression\n",
    "linridge = Ridge(alpha=0.7)\n",
    "linridge.fit(X_train, y_train)\n",
    "\n",
    "confidenceridge = linridge.score(X_test,y_test)\n",
    "\n",
    "print(\"The Ridge regression confidence is \",confidenceridge)"
   ]
  },
  {
   "cell_type": "markdown",
   "metadata": {},
   "source": [
    "Predicting stocks using Ridge Regression"
   ]
  },
  {
   "cell_type": "code",
   "execution_count": 17,
   "metadata": {},
   "outputs": [
    {
     "name": "stdout",
     "output_type": "stream",
     "text": [
      "The Ridge regression confidence is  0.9679690179433994\n"
     ]
    }
   ],
   "source": [
    "from sklearn.linear_model import Lasso\n",
    "\n",
    "\n",
    "# Lasso Regression\n",
    "linlasso = Lasso(alpha=0.1)\n",
    "linlasso.fit(X_train, y_train)\n",
    "\n",
    "confidencelasso = linlasso.score(X_test,y_test)\n",
    "\n",
    "print(\"The Ridge regression confidence is \",confidencelasso)"
   ]
  },
  {
   "cell_type": "markdown",
   "metadata": {},
   "source": [
    "From above models, Quadratic Regression 2 model seems performing best among all above for NVDA stocks.\n",
    "\n",
    "Lets try to visualise it on training data and forecast data."
   ]
  },
  {
   "cell_type": "code",
   "execution_count": 18,
   "metadata": {},
   "outputs": [
    {
     "name": "stdout",
     "output_type": "stream",
     "text": [
      "[164.5882814  160.75666003 159.42669028 155.01139857 157.85663153\n",
      " 158.17927504 175.25770878 176.66923322 177.4197955  179.71023195\n",
      " 178.69131894 163.83484974 175.12087641 163.41961485 166.77242152\n",
      " 175.52385344 173.56414285 173.75401767 177.56361918 184.83505651\n",
      " 185.29045152 187.29793876 185.68378367 190.75616468 188.28185117\n",
      " 189.69432938] 0.9741901340431659 26\n"
     ]
    }
   ],
   "source": [
    "# Printing the forecast\n",
    "forecast_set = reg_poly2.predict(X_lately)\n",
    "dfreg['Forecast'] = np.nan\n",
    "print(forecast_set, confidencepoly2, forecast_out)"
   ]
  },
  {
   "cell_type": "code",
   "execution_count": 19,
   "metadata": {},
   "outputs": [],
   "source": [
    "last_date = dfreg.iloc[-1].name\n",
    "last_unix = last_date\n",
    "next_unix = last_unix + datetime.timedelta(days=1)\n",
    "\n",
    "for i in forecast_set:\n",
    "    next_date = next_unix\n",
    "    next_unix += datetime.timedelta(days=1)\n",
    "    dfreg.loc[next_date] = [np.nan for _ in range(len(dfreg.columns)-1)]+[i]"
   ]
  },
  {
   "cell_type": "code",
   "execution_count": 20,
   "metadata": {},
   "outputs": [
    {
     "data": {
      "image/png": "[encoded data removed]",
      "text/plain": [
       "<Figure size 720x504 with 1 Axes>"
      ]
     },
     "metadata": {},
     "output_type": "display_data"
    }
   ],
   "source": [
    "dfreg['Adj Close'].tail(500).plot()\n",
    "dfreg['Forecast'].tail(500).plot()\n",
    "plt.legend(loc=4)\n",
    "plt.xlabel('Date')\n",
    "plt.ylabel('Price')\n",
    "plt.show()"
   ]
  },
  {
   "cell_type": "code",
   "execution_count": null,
   "metadata": {},
   "outputs": [],
   "source": []
  }
 ],
 "metadata": {
  "kernelspec": {
   "display_name": "Python 3",
   "language": "python",
   "name": "python3"
  },
  "language_info": {
   "codemirror_mode": {
    "name": "ipython",
    "version": 3
   },
   "file_extension": ".py",
   "mimetype": "text/x-python",
   "name": "python",
   "nbconvert_exporter": "python",
   "pygments_lexer": "ipython3",
   "version": "3.5.2"
  }
 },
 "nbformat": 4,
 "nbformat_minor": 2
}
